{
 "cells": [
  {
   "cell_type": "code",
   "execution_count": null,
   "id": "30225ddb",
   "metadata": {
    "vscode": {
     "languageId": "plaintext"
    }
   },
   "outputs": [],
   "source": [
    "# Set path to embeddings\n",
    "embedding_dir = \"embeddings\"\n",
    "modalities = [\"365UV\", \"395UV\", \"WhiteUV\"]\n",
    "\n",
    "X = []\n",
    "y = []\n",
    "\n",
    "# Load embeddings + labels from selected modalities\n",
    "for modality in modalities:\n",
    "    emb_path = os.path.join(embedding_dir, f\"{modality}_embeddings.npy\")\n",
    "    lbl_path = os.path.join(embedding_dir, f\"{modality}_labels.npy\")\n",
    "\n",
    "    embeddings = np.load(emb_path)\n",
    "    labels = np.load(lbl_path)\n",
    "\n",
    "    X.append(embeddings)\n",
    "    y.append(labels)\n",
    "\n",
    "# Concatenate data from all selected folders\n",
    "X = np.vstack(X)\n",
    "y = np.concatenate(y)\n",
    "\n",
    "print(f\"✅ Total Samples: {X.shape[0]}, Features: {X.shape[1]}\")\n",
    "\n",
    "# Normalize features\n",
    "scaler = StandardScaler()\n",
    "X = scaler.fit_transform(X)\n",
    "\n",
    "# Train/test split\n",
    "X_train, X_test, y_train, y_test = train_test_split(\n",
    "    X, y, test_size=0.2, random_state=42, stratify=y\n",
    ")\n",
    "\n",
    "# Define models\n",
    "models = {\n",
    "    \"SVM (RBF)\": SVC(kernel='rbf', probability=True),\n",
    "    \"Random Forest\": RandomForestClassifier(n_estimators=100, random_state=42),\n",
    "    \"XGBoost\": XGBClassifier(use_label_encoder=False, eval_metric='logloss')\n",
    "}\n",
    "\n",
    "# Train and evaluate each model\n",
    "for name, model in models.items():\n",
    "    print(f\"\\n🔍 Training: {name}\")\n",
    "    model.fit(X_train, y_train)\n",
    "\n",
    "    y_pred = model.predict(X_test)\n",
    "    acc = accuracy_score(y_test, y_pred)\n",
    "    print(f\"🎯 Accuracy: {acc:.4f}\")\n",
    "    print(f\"📊 Classification Report:\\n{classification_report(y_test, y_pred)}\")\n"
   ]
  }
 ],
 "metadata": {
  "language_info": {
   "name": "python"
  }
 },
 "nbformat": 4,
 "nbformat_minor": 5
}
